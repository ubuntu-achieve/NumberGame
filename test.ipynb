{
 "cells": [
  {
   "cell_type": "code",
   "execution_count": 1,
   "metadata": {},
   "outputs": [],
   "source": [
    "import cv2\n",
    "import numpy as np\n",
    "import mediapipe as mp"
   ]
  },
  {
   "cell_type": "code",
   "execution_count": 2,
   "metadata": {},
   "outputs": [],
   "source": [
    "mp_drawing = mp.solutions.drawing_utils\n",
    "mp_drawing_styles = mp.solutions.drawing_styles\n",
    "mp_hands = mp.solutions.hands"
   ]
  },
  {
   "cell_type": "code",
   "execution_count": 29,
   "metadata": {},
   "outputs": [],
   "source": [
    "def get_landmarks(multi_hand_landmarks):\n",
    "    '''\n",
    "    将mediapipe的识别结果转换为列表形式方便操作\n",
    "    multi_hand_landmarks:多手坐标results.multi_hand_landmarks\n",
    "    '''\n",
    "    land_marks = []\n",
    "    for hand_landmarks in multi_hand_landmarks:\n",
    "        tmp = str(hand_landmarks).replace('\\n', '').replace('{', '').replace('landmark  ', '').replace('}', ' ').replace('  ', ' ').replace(':', '')[1:-1].split(' ')\n",
    "        land_marks.append([(float(tmp[i+1]), float(tmp[i+3]), float(tmp[i+5])) for i in range(0, len(tmp), 6)])\n",
    "    return land_marks\n",
    "\n",
    "def get_label(multi_handedness):\n",
    "    '''\n",
    "    得到mediapipe对左右手的识别结果\n",
    "    multi_handedness:识别标签results.multi_handedness\n",
    "    '''\n",
    "    hands_info = {}\n",
    "    index      = 0\n",
    "    for hand_info in multi_handedness:\n",
    "        hand_info = str(hand_info).replace('\\n', '').replace('  ',' ').replace('\"', '').replace('}', '')\n",
    "        hand_info = hand_info.split(' ')\n",
    "        hands_info[hand_info[7]] = (index, float(hand_info[5]))\n",
    "        index += 1\n",
    "    return hands_info"
   ]
  },
  {
   "cell_type": "code",
   "execution_count": 28,
   "metadata": {},
   "outputs": [],
   "source": [
    "cap = cv2.VideoCapture(0)\n",
    "with mp_hands.Hands(\n",
    "    model_complexity=0,\n",
    "    min_detection_confidence=0.5,\n",
    "    min_tracking_confidence=0.5) as hands:\n",
    "    while cap.isOpened():\n",
    "        success, image = cap.read()\n",
    "        if not success:\n",
    "            print(\"Ignoring empty camera frame.\")\n",
    "            continue\n",
    "        # 取消图像标记可提升程序性能\n",
    "        image.flags.writeable = True\n",
    "        image = cv2.cvtColor(image, cv2.COLOR_BGR2RGB)\n",
    "        # 将图片翻转\n",
    "        image = cv2.flip(image, 1)\n",
    "        # 进行预测\n",
    "        results = hands.process(image)\n",
    "        image = cv2.cvtColor(image, cv2.COLOR_RGB2BGR)\n",
    "        if results.multi_hand_landmarks != None:\n",
    "            # 绘制手部关键点图像\n",
    "            for hand_landmarks in results.multi_hand_landmarks:\n",
    "                mp_drawing.draw_landmarks(\n",
    "                    image,\n",
    "                    hand_landmarks,\n",
    "                    mp_hands.HAND_CONNECTIONS,\n",
    "                    mp_drawing_styles.get_default_hand_landmarks_style(),\n",
    "                    mp_drawing_styles.get_default_hand_connections_style())\n",
    "            hand_points = get_landmarks(results.multi_hand_landmarks)\n",
    "            hands_info  = get_label(results.multi_handedness)\n",
    "            for hand_label in hands_info.keys():\n",
    "                # 若只出现一只手，则不使用索引\n",
    "                hand_index = 0\n",
    "                if len(hand_points) > 1:\n",
    "                    # 若只出现多只手，则使用索引\n",
    "                    hand_index = hands_info[hand_label][0]\n",
    "                tmp_point = (\n",
    "                    int(hand_points[hand_index][0][0]*image.shape[1]),\n",
    "                    int(hand_points[hand_index][0][1]*image.shape[0])\n",
    "                )\n",
    "                # 绘制左右手的标签、\n",
    "                image = cv2.putText(image, hand_label, tmp_point, cv2.FONT_HERSHEY_SIMPLEX, 0.7, (0, 255, 0), 2)\n",
    "        cv2.imshow('MediaPipe Hands', image)\n",
    "        if cv2.waitKey(5) & 0xFF == 27:\n",
    "            break\n",
    "cap.release()\n",
    "cv2.destroyAllWindows()"
   ]
  },
  {
   "cell_type": "code",
   "execution_count": 132,
   "metadata": {},
   "outputs": [],
   "source": [
    "cap.release()"
   ]
  },
  {
   "cell_type": "code",
   "execution_count": 25,
   "metadata": {},
   "outputs": [
    {
     "data": {
      "text/plain": [
       "([classification {\n",
       "    index: 1\n",
       "    score: 0.9591565728187561\n",
       "    label: \"Right\"\n",
       "  },\n",
       "  classification {\n",
       "    index: 0\n",
       "    score: 0.9091022610664368\n",
       "    label: \"Left\"\n",
       "  }],\n",
       " {'Right': (1, 0.9591565728187561), 'Left': (0, 0.9091022610664368)})"
      ]
     },
     "execution_count": 25,
     "metadata": {},
     "output_type": "execute_result"
    }
   ],
   "source": [
    "results.multi_handedness, hands_info"
   ]
  },
  {
   "cell_type": "code",
   "execution_count": 117,
   "metadata": {},
   "outputs": [
    {
     "data": {
      "text/plain": [
       "[('0.41970664262771606', '0.6594709157943726', '8.223367764514933e-09'),\n",
       " ('0.48435455560684204', '0.6475182175636292', '-0.025378096848726273'),\n",
       " ('0.5339502692222595', '0.6051388382911682', '-0.03971827030181885'),\n",
       " ('0.5692800879478455', '0.5667318105697632', '-0.054267965257167816'),\n",
       " ('0.6048367619514465', '0.5476455688476562', '-0.07062353193759918'),\n",
       " ('0.4957050681114197', '0.49334418773651123', '-0.016261879354715347'),\n",
       " ('0.5225257873535156', '0.41995614767074585', '-0.032016821205616'),\n",
       " ('0.539300799369812', '0.37440162897109985', '-0.04613199084997177'),\n",
       " ('0.551587700843811', '0.33479446172714233', '-0.05693177878856659'),\n",
       " ('0.4605002999305725', '0.4735385775566101', '-0.018184583634138107'),\n",
       " ('0.4744134247303009', '0.3809613585472107', '-0.031147565692663193'),\n",
       " ('0.48443475365638733', '0.3220056891441345', '-0.04920611530542374'),\n",
       " ('0.490028977394104', '0.27200847864151', '-0.06422082334756851'),\n",
       " ('0.4258636236190796', '0.47305160760879517', '-0.024022875353693962'),\n",
       " ('0.42866483330726624', '0.3888498544692993', '-0.03958262875676155'),\n",
       " ('0.43418341875076294', '0.33335453271865845', '-0.06006578356027603'),\n",
       " ('0.43871456384658813', '0.2884608507156372', '-0.07479358464479446'),\n",
       " ('0.39171335101127625', '0.48784932494163513', '-0.03296346217393875'),\n",
       " ('0.37940412759780884', '0.4251784682273865', '-0.047396816313266754'),\n",
       " ('0.37378549575805664', '0.38343510031700134', '-0.06069592386484146'),\n",
       " ('0.36964088678359985', '0.34690624475479126', '-0.07099881768226624')]"
      ]
     },
     "execution_count": 117,
     "metadata": {},
     "output_type": "execute_result"
    }
   ],
   "source": [
    "get_landmarks(results.multi_hand_landmarks)[0]"
   ]
  },
  {
   "cell_type": "code",
   "execution_count": 108,
   "metadata": {},
   "outputs": [
    {
     "data": {
      "text/plain": [
       "21"
      ]
     },
     "execution_count": 108,
     "metadata": {},
     "output_type": "execute_result"
    }
   ],
   "source": [
    "len([(a[i+1], a[i+3], a[i+5]) for i in range(0, len(a), 6)])"
   ]
  },
  {
   "cell_type": "code",
   "execution_count": 118,
   "metadata": {},
   "outputs": [
    {
     "data": {
      "text/plain": [
       "{'Left': (0, 0.8885172009468079)}"
      ]
     },
     "execution_count": 118,
     "metadata": {},
     "output_type": "execute_result"
    }
   ],
   "source": [
    "hands_info"
   ]
  },
  {
   "cell_type": "code",
   "execution_count": null,
   "metadata": {},
   "outputs": [],
   "source": []
  },
  {
   "cell_type": "code",
   "execution_count": null,
   "metadata": {},
   "outputs": [],
   "source": []
  },
  {
   "cell_type": "code",
   "execution_count": null,
   "metadata": {},
   "outputs": [],
   "source": []
  },
  {
   "cell_type": "code",
   "execution_count": null,
   "metadata": {},
   "outputs": [],
   "source": []
  }
 ],
 "metadata": {
  "kernelspec": {
   "display_name": "Python 3.9.13 ('NG')",
   "language": "python",
   "name": "python3"
  },
  "language_info": {
   "codemirror_mode": {
    "name": "ipython",
    "version": 3
   },
   "file_extension": ".py",
   "mimetype": "text/x-python",
   "name": "python",
   "nbconvert_exporter": "python",
   "pygments_lexer": "ipython3",
   "version": "3.9.13"
  },
  "orig_nbformat": 4,
  "vscode": {
   "interpreter": {
    "hash": "152593fe616a6126ded5c822986b2aa4063446f84b0241e3d33043098e70a022"
   }
  }
 },
 "nbformat": 4,
 "nbformat_minor": 2
}
