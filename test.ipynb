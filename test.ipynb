{
 "cells": [
  {
   "cell_type": "code",
   "execution_count": 1,
   "metadata": {},
   "outputs": [],
   "source": [
    "import os\n",
    "import cv2\n",
    "import time\n",
    "import cupy as cp\n",
    "import numpy as np\n",
    "from PIL import Image\n",
    "import mediapipe as mp\n",
    "import matplotlib.pyplot as plt\n",
    "import threading"
   ]
  },
  {
   "cell_type": "code",
   "execution_count": 2,
   "metadata": {},
   "outputs": [],
   "source": [
    "data_path   = './data'\n",
    "img_source  = [\n",
    "    'icons/arrow.png',\n",
    "    'icons/bow.png',\n",
    "    'icons/shield.png',\n",
    "    'icons/touch.png',\n",
    "    'icons/touch_l.png',\n",
    "    'icons/touch_r.png',\n",
    "    'show.png'\n",
    "]\n",
    "IQ          = 5   # Image quality:画质等级，数字越大越差0, 1, 2, 3, 5\n",
    "SEP         = 30  # Septal:图标间距的像素值\n",
    "R           = 60  # 触碰圆半径\n",
    "H           = 480 # 图片的高\n",
    "W           = 640 # 图片的宽\n",
    "LC          = (int(640*1/4), int(480/3))  # 左侧触碰圆圆心\n",
    "RC          = (int(640*3/4), int(480/3))  # 右侧触碰圆圆心\n",
    "ICO         = []  # 存储图标\n",
    "ico_index   = []  # 图标索引\n",
    "show_data   = np.zeros((130,640,3))  # 数据展示区域\n",
    "# DATA_POINT:数据展示点的坐标\n",
    "# 数据点的顺序：玩家左手识别值、玩家左手实际值、电脑左手实际值、玩家右手识别值、玩家右手实际值、电脑右手实际值\n",
    "DATA_POINT  = [(177,45),(259,45),(440,45),(177,98),(259,98),(440,98)]\n",
    "PH, AH = None, None # 玩家触碰手，AI触碰手\n",
    "\n",
    "mp_drawing        = mp.solutions.drawing_utils\n",
    "mp_drawing_styles = mp.solutions.drawing_styles\n",
    "mp_hands          = mp.solutions.hands\n",
    "for name in img_source:\n",
    "    im = Image.open(os.path.join(data_path, name))\n",
    "    # png转jpg\n",
    "    im = im.convert('RGB')\n",
    "    # RGB转BGR格式，并按画质等级降低画质\n",
    "    if 'show' in name or 'touch' in name:\n",
    "        im = cv2.cvtColor(np.array(im), cv2.COLOR_RGB2BGR)\n",
    "    else:\n",
    "        im = cv2.cvtColor(np.array(im)[::IQ,::IQ], cv2.COLOR_RGB2BGR)\n",
    "    ICO.append(im)\n",
    "    ico_index.append(np.where(im != 0))"
   ]
  },
  {
   "cell_type": "code",
   "execution_count": 3,
   "metadata": {},
   "outputs": [],
   "source": [
    "# 计算point1与point2之间的距离\n",
    "d = lambda point1, point2:((point1[0] - point2[0])**2 + (point1[1] - point2[1])**2)**0.5\n",
    "def get_landmarks(multi_hand_landmarks):\n",
    "    '''\n",
    "    将mediapipe的识别结果转换为列表形式方便操作\n",
    "    multi_hand_landmarks:多手坐标results.multi_hand_landmarks\n",
    "    return:返回手0和手1各点的坐标列表(例：[[(手0点0的x坐标,手0点0的y坐标),(手0点1的x坐标,手0点1的y坐标),...][(手1点0的x坐标,手1点0的y坐标),(手1点1的x坐标,手1点1的y坐标),...]])\n",
    "    '''\n",
    "    land_marks = []\n",
    "    for hand_landmarks in multi_hand_landmarks:\n",
    "        tmp = str(hand_landmarks).replace('\\n', '').replace('{', '').replace('landmark  ', '').replace('}', ' ').replace('  ', ' ').replace(':', '')[1:-1].split(' ')\n",
    "        land_marks.append([(float(tmp[i+1]), float(tmp[i+3])) for i in range(0, len(tmp), 6)])\n",
    "    return land_marks\n",
    "\n",
    "def get_label(multi_handedness):\n",
    "    '''\n",
    "    得到mediapipe对左右手的识别结果\n",
    "    multi_handedness:识别标签results.multi_handedness\n",
    "    return:左右手对应的索引和预测概率(例：{\"Right\":(0,0.9),\"Left\":(1,0.9)})\n",
    "    '''\n",
    "    hands_info = {}\n",
    "    for hand_info in multi_handedness:\n",
    "        hand_info = str(hand_info).replace('\\n', '').replace('  ',' ').replace('\"', '').replace('}', '')\n",
    "        hand_info = hand_info.split(' ')\n",
    "        hands_info[hand_info[7]] = (int(hand_info[3]), float(hand_info[5]))\n",
    "    return hands_info\n",
    "\n",
    "def chartlet(img ,icon, quality=1, icon_index=None):\n",
    "    '''\n",
    "    向原图贴加图标，原理是从原图和图标中的像素值加权后相加得到叠加图像\n",
    "    img:        array待叠加的图像\n",
    "    icon:       array待叠加的图标\n",
    "    quality:    0.0-1.0图标的透明度\n",
    "    icons_index:图标中的有效部分\n",
    "    '''\n",
    "    if not icon_index:\n",
    "        icon_index = np.where(icon != 0)\n",
    "    img  = np.array(img,  np.uint8)\n",
    "    icon = np.array(icon, np.uint8)\n",
    "    for i in range(len(icon_index[0])):\n",
    "        img[icon_index[0][i]][icon_index[1][i]][icon_index[2][i]] = img[icon_index[0][i]][icon_index[1][i]][icon_index[2][i]]*(1 - quality) + icon[icon_index[0][i]][icon_index[1][i]][icon_index[2][i]]*quality\n",
    "    return img\n",
    "\n",
    "def show_skill(frame, arrow, bow, shield):\n",
    "    '''\n",
    "    在图片上显示技能数量\n",
    "    frame:       array将要显示的图片\n",
    "    arrow:       (person, ai)箭的数量\n",
    "    bow:         (person, ai)弓箭的数量\n",
    "    shield:      (person, ai)盾的数量\n",
    "    '''\n",
    "    pe_num = [arrow[0], bow[0], shield[0]]\n",
    "    ai_num = [arrow[1], bow[1], shield[1]]\n",
    "    for index in range(3):\n",
    "        h, w = ICO[index].shape[:-1]\n",
    "        # 绘制人类选手技能\n",
    "        frame[SEP:h+SEP, SEP*(index+1)+w*index:SEP*(index+1)+w*(index+1)] = chartlet(frame[SEP:h+SEP, SEP*(index+1)+w*index:SEP*(index+1)+w*(index+1)], ICO[index], icon_index=ico_index[index])\n",
    "        frame = cv2.putText(frame, str(pe_num[index]), (SEP*(index+1)+w*index + int(w/3), SEP*2+h), cv2.FONT_HERSHEY_SIMPLEX, 0.7, (0, 255, 0), 2)\n",
    "        # 绘制AI选手技能\n",
    "        frame[SEP:h+SEP, W-(SEP*(index+1)+w*(index+1)):W-(SEP*(index+1)+w*index)] = chartlet(frame[SEP:h+SEP, W-(SEP*(index+1)+w*(index+1)):W-(SEP*(index+1)+w*index)], ICO[index], icon_index=ico_index[index])\n",
    "        frame = cv2.putText(frame, str(ai_num[index]), (W-(SEP*(index+1)+w*index + int(w*2/3)), SEP*2+h), cv2.FONT_HERSHEY_SIMPLEX, 0.7, (0, 255, 0), 2)\n",
    "    return frame\n",
    "\n",
    "def touch_place(frame, hand_points):\n",
    "    '''\n",
    "    判断手指是否移动到触碰区\n",
    "    '''\n",
    "    h, w = frame.shape[:-1]\n",
    "    p0 = hand_points[0][9][0]*w, hand_points[0][9][1]*h\n",
    "    if d(p0 , LC) < R:\n",
    "        frame[ico_index[4][:2]] = np.array([254, 216, 192])\n",
    "        return frame, (0,0)\n",
    "    if d(p0 , RC) < R:\n",
    "        frame[ico_index[5][:2]] = np.array([254, 216, 192])\n",
    "        return frame, (0,1)\n",
    "    try:\n",
    "        p1 = hand_points[1][9][0]*w, hand_points[1][9][1]*h\n",
    "        if d(p1 , LC) < R:\n",
    "            frame[ico_index[4][:2]] = np.array([254, 216, 192])\n",
    "            return frame, (1,0)\n",
    "        if d(p1 , RC) < R:\n",
    "            frame[ico_index[5][:2]] = np.array([254, 216, 192])\n",
    "            return frame, (1,1)\n",
    "    except:\n",
    "        pass\n",
    "    #cv2.circle(frame, LC, R, (0,0,0), thickness=2)\n",
    "    #cv2.circle(frame, RC, R, (0,0,0), thickness=2)\n",
    "    # todo 触碰判断"
   ]
  },
  {
   "cell_type": "code",
   "execution_count": 4,
   "metadata": {},
   "outputs": [],
   "source": [
    "def draw_ico(frame):\n",
    "    '''\n",
    "    绘制技能图标、触碰区等\n",
    "\n",
    "    frame: 待绘制图像\n",
    "    '''\n",
    "    for index in range(3):\n",
    "        h, w = ICO[index].shape[:-1]\n",
    "        # 绘制人类选手技能\n",
    "        frame[SEP:h+SEP, SEP*(index+1)+w*index:SEP*(index+1)+w*(index+1)] = chartlet(frame[SEP:h+SEP, SEP*(index+1)+w*index:SEP*(index+1)+w*(index+1)], ICO[index], icon_index=ico_index[index])\n",
    "        # 绘制AI选手技能\n",
    "        frame[SEP:h+SEP, W-(SEP*(index+1)+w*(index+1)):W-(SEP*(index+1)+w*index)] = chartlet(frame[SEP:h+SEP, W-(SEP*(index+1)+w*(index+1)):W-(SEP*(index+1)+w*index)], ICO[index], icon_index=ico_index[index])\n",
    "    # 绘制触碰区\n",
    "    frame[ico_index[3][:2]] = 0.5*frame[ico_index[3][:2]] + 0.5*np.array([254, 216, 192])\n",
    "    return frame\n",
    "\n",
    "def draw_data(frame, skill_data, figure_data):\n",
    "    '''\n",
    "    绘制技能数目等数据\n",
    "\n",
    "    skill_data: [arrow, bow, shield]ai、人类的技能数据，依次是箭、弓、盾\n",
    "    figure_data: [[p_left, pp_left, a_left], [p_right, pp_right, a_right]]各手上的数字 \n",
    "    '''\n",
    "    pe_num = skill_data[3:]\n",
    "    ai_num = skill_data[:3]\n",
    "    data_img = ICO[-1].copy()\n",
    "    for index in range(3):\n",
    "        h, w = ICO[index].shape[:-1]\n",
    "        # 绘制人类选手技能\n",
    "        frame = cv2.putText(frame, str(pe_num[index]), (SEP*(index+1)+w*index + int(w/3), SEP*2+h), cv2.FONT_HERSHEY_SIMPLEX, 0.7, (0, 255, 0), 2)\n",
    "        # 绘制AI选手技能\n",
    "        frame = cv2.putText(frame, str(ai_num[index]), (W-(SEP*(index+1)+w*index + int(w*2/3)), SEP*2+h), cv2.FONT_HERSHEY_SIMPLEX, 0.7, (0, 255, 0), 2)\n",
    "    # 绘制手势数据\n",
    "    for index in range(3):\n",
    "        data_img = cv2.putText(data_img, str(figure_data[0][index]), DATA_POINT[index], cv2.FONT_HERSHEY_SIMPLEX, 0.7, (0, 0, 0), 2)\n",
    "        data_img = cv2.putText(data_img, str(figure_data[1][index]), DATA_POINT[3+index], cv2.FONT_HERSHEY_SIMPLEX, 0.7, (0, 0, 0), 2)\n",
    "\n",
    "    return data_img\n",
    "\n",
    "def get_number(hand_points):\n",
    "    '''\n",
    "    判断当前手所示数字\n",
    "\n",
    "    hand_points: 手的坐标\n",
    "    return:两只手所示的数字\n",
    "    '''\n",
    "    pose = {\n",
    "        '000000':0, # 五指全收\n",
    "        '010000':1, # 食指不收\n",
    "        '011000':2, # 食中不收\n",
    "        '011100':3, # 大小指收\n",
    "        '001110':3, # 大小指收\n",
    "        '011100':3, # 大小指收\n",
    "        '011110':4, # 大拇指收\n",
    "        '111110':5, # 全部不收\n",
    "        '100010':6, # 大小不收\n",
    "        '111000':7, # 小无指收\n",
    "        '110000':8, # 大食不收\n",
    "        '000001':9, # 食指蜷缩\n",
    "        '010001':9, # 食指蜷缩\n",
    "    }\n",
    "    number = []\n",
    "    try:\n",
    "        hand0, hand1 = hand_points\n",
    "    except:\n",
    "        hand0 = hand_points[0]\n",
    "    pose_key = '%d%d%d%d%d%d'%(\n",
    "        # 判断五指是否伸直\n",
    "        d(hand0[3], hand0[17]) <= d(hand0[4], hand0[17]),  # 拇指\n",
    "        d(hand0[0], hand0[ 5]) <= d(hand0[0], hand0[ 7]),  # 食指\n",
    "        d(hand0[0], hand0[10]) <= d(hand0[0], hand0[11]),  # 中指\n",
    "        d(hand0[0], hand0[14]) <= d(hand0[0], hand0[15]),  # 无名\n",
    "        d(hand0[0], hand0[18]) <= d(hand0[0], hand0[19]),  # 小指\n",
    "        # 特殊数字9\n",
    "        d(hand0[6], hand0[ 8]) <= d(hand0[6], hand0[ 5])/2,  # 9 食指\n",
    "        #d(hand0[4], hand0[12]) >= d(hand0[4], hand0[ 8]),  # 9 三指\n",
    "\n",
    "    )\n",
    "    print(f\"\\r{pose_key}\", end='')\n",
    "    try:\n",
    "        number.append(pose[pose_key])\n",
    "    except:\n",
    "        number.append(None)\n",
    "    if len(hand_points) == 2:\n",
    "        pose_key = '%d%d%d%d%d%d'%(\n",
    "            # 判断五指是否伸直\n",
    "            d(hand1[3], hand1[17]) <= d(hand1[4], hand1[17]),  # 拇指\n",
    "            d(hand1[0], hand1[ 5]) <= d(hand1[0], hand1[ 7]),  # 食指\n",
    "            d(hand1[0], hand1[10]) <= d(hand1[0], hand1[11]),  # 中指\n",
    "            d(hand1[0], hand1[14]) <= d(hand1[0], hand1[15]),  # 无名\n",
    "            d(hand1[0], hand1[18]) <= d(hand1[0], hand1[19]),  # 小指\n",
    "            # 特殊数字7和9\n",
    "            d(hand1[6], hand1[ 8]) <= d(hand1[6], hand1[ 5])/2,  # 7 食指\n",
    "            #d(hand1[4], hand1[12]) >= d(hand1[4], hand1[ 8]),  # 9 三指\n",
    "        )\n",
    "        try:\n",
    "            number.append(pose[pose_key])\n",
    "        except:\n",
    "            number.append(None)\n",
    "    else:  # 在未检测到手1时不进行计数\n",
    "        number.append(None)\n",
    "    return number"
   ]
  },
  {
   "cell_type": "code",
   "execution_count": 8,
   "metadata": {},
   "outputs": [
    {
     "data": {
      "text/plain": [
       "<matplotlib.image.AxesImage at 0x1c521a2efd0>"
      ]
     },
     "execution_count": 8,
     "metadata": {},
     "output_type": "execute_result"
    },
    {
     "data": {
      "image/png": "[encoded data removed]",
      "text/plain": [
       "<Figure size 640x480 with 1 Axes>"
      ]
     },
     "metadata": {},
     "output_type": "display_data"
    }
   ],
   "source": [
    "plt.imshow(cp.asnumpy(cp.array(ICO[-1])))"
   ]
  },
  {
   "cell_type": "code",
   "execution_count": 8,
   "metadata": {},
   "outputs": [],
   "source": [
    "from CountGame import GameController"
   ]
  },
  {
   "cell_type": "code",
   "execution_count": 9,
   "metadata": {},
   "outputs": [],
   "source": [
    "game = GameController()"
   ]
  },
  {
   "cell_type": "code",
   "execution_count": 10,
   "metadata": {},
   "outputs": [
    {
     "ename": "NameError",
     "evalue": "name 'a' is not defined",
     "output_type": "error",
     "traceback": [
      "\u001b[1;31m---------------------------------------------------------------------------\u001b[0m",
      "\u001b[1;31mNameError\u001b[0m                                 Traceback (most recent call last)",
      "Cell \u001b[1;32mIn [10], line 1\u001b[0m\n\u001b[1;32m----> 1\u001b[0m game_thread \u001b[39m=\u001b[39m threading\u001b[39m.\u001b[39mThread(target\u001b[39m=\u001b[39mgame\u001b[39m.\u001b[39mslient_start, args\u001b[39m=\u001b[39m(a,b), name\u001b[39m=\u001b[39m\u001b[39m\"\u001b[39m\u001b[39mJob1\u001b[39m\u001b[39m\"\u001b[39m)\n",
      "\u001b[1;31mNameError\u001b[0m: name 'a' is not defined"
     ]
    }
   ],
   "source": [
    "game_thread = threading.Thread(target=game.slient_start, args=(a,b), name=\"Job1\")"
   ]
  },
  {
   "cell_type": "code",
   "execution_count": 29,
   "metadata": {},
   "outputs": [],
   "source": [
    "cap = cv2.VideoCapture(0)\n",
    "with mp_hands.Hands(\n",
    "    max_num_hands=2,\n",
    "    model_complexity=0,\n",
    "    min_detection_confidence=0.5,\n",
    "    min_tracking_confidence=0.5) as hands:\n",
    "    data_image = ICO[-1]  #数据显示区\n",
    "    while cap.isOpened():\n",
    "        time1 = time.time()\n",
    "        success, image = cap.read()\n",
    "        if not success:\n",
    "            print(\"Ignoring empty camera frame.\")\n",
    "            continue\n",
    "        # 取消图像标记可提升程序性能\n",
    "        image = cv2.cvtColor(image, cv2.COLOR_BGR2RGB)\n",
    "        # 将图片翻转\n",
    "        image = cv2.flip(image, 1)\n",
    "        # 进行预测\n",
    "        results = hands.process(image)\n",
    "        image = cv2.cvtColor(image, cv2.COLOR_RGB2BGR)\n",
    "        if results.multi_hand_landmarks != None:\n",
    "            # 绘制手部关键点图像\n",
    "            for hand_landmarks in results.multi_hand_landmarks:\n",
    "                mp_drawing.draw_landmarks(\n",
    "                    image,\n",
    "                    hand_landmarks,\n",
    "                    mp_hands.HAND_CONNECTIONS,\n",
    "                    mp_drawing_styles.get_default_hand_landmarks_style(),\n",
    "                    mp_drawing_styles.get_default_hand_connections_style())\n",
    "            hand_points = get_landmarks(results.multi_hand_landmarks)\n",
    "            hands_info  = get_label(results.multi_handedness)\n",
    "            for points in hand_points:\n",
    "                mid_center = int(points[9][0]*640), int(points[9][1]*480)\n",
    "                image = cv2.circle(image, mid_center, 3, (0,0,0), thickness=2)\n",
    "            if len(hand_points[0]) == 21:\n",
    "                hands_num = get_number(hand_points)\n",
    "            else:\n",
    "                hands_num = [None, None]\n",
    "            for index, hand_label in enumerate(hands_info.keys()):\n",
    "                # 仅在出现一只以上的手时才使用索引\n",
    "                if len(hands_info.keys()) > 1:\n",
    "                    # 若只出现多只手，则使用索引\n",
    "                    index = hands_info[hand_label][0]\n",
    "                tmp_point = (\n",
    "                    int(hand_points[index][0][0]*image.shape[1]),\n",
    "                    int(hand_points[index][0][1]*image.shape[0])\n",
    "                )\n",
    "                # 绘制左右手的标签和检测数字\n",
    "                image = cv2.putText(image, hand_label, tmp_point, cv2.FONT_HERSHEY_SIMPLEX, 0.7, (0, 255, 0), 2)\n",
    "                image = cv2.putText(image, str(hands_num[index]), (tmp_point[0], tmp_point[1]+50), cv2.FONT_HERSHEY_SIMPLEX, 0.7, (0, 255, 0), 2)\n",
    "            # 绘制触碰区并判断触碰情况\n",
    "            touch_info = touch_place(image,hand_points)\n",
    "            # todo 绘制各选手当前信息\n",
    "        # 绘制技能信息\n",
    "        image = draw_ico(image)\n",
    "        # 仅在参数更新时更改参数显示区数据\n",
    "        data_image = draw_data(image, skill_data=[0,0,0,0,0,0], figure_data=[[0,0,0,0],[0,0,0,0]])\n",
    "        # 拼接数据显示区\n",
    "        image = np.concatenate((data_image, image),axis=0)\n",
    "        # 显示fps\n",
    "        time2 = time.time()\n",
    "        image = cv2.putText(image, str(int(1/(time2-time1))), (320,220), cv2.FONT_HERSHEY_SIMPLEX, 0.7, (0, 255, 0), 2)\n",
    "        cv2.imshow('MediaPipe Hands', image)\n",
    "        if cv2.waitKey(5) & 0xFF == 27:\n",
    "            break\n",
    "cap.release()\n",
    "cv2.destroyAllWindows()"
   ]
  },
  {
   "cell_type": "code",
   "execution_count": 21,
   "metadata": {},
   "outputs": [
    {
     "data": {
      "text/plain": [
       "(480, 640, 3)"
      ]
     },
     "execution_count": 21,
     "metadata": {},
     "output_type": "execute_result"
    }
   ],
   "source": [
    "image.shape"
   ]
  },
  {
   "cell_type": "code",
   "execution_count": 1,
   "metadata": {},
   "outputs": [],
   "source": [
    "from CountGame import GameController"
   ]
  },
  {
   "cell_type": "code",
   "execution_count": 2,
   "metadata": {},
   "outputs": [],
   "source": [
    "p = GameController()"
   ]
  },
  {
   "cell_type": "code",
   "execution_count": null,
   "metadata": {},
   "outputs": [],
   "source": [
    "p.process()"
   ]
  },
  {
   "cell_type": "code",
   "execution_count": null,
   "metadata": {},
   "outputs": [],
   "source": []
  }
 ],
 "metadata": {
  "kernelspec": {
   "display_name": "Python 3.9.13 ('daily')",
   "language": "python",
   "name": "python3"
  },
  "language_info": {
   "codemirror_mode": {
    "name": "ipython",
    "version": 3
   },
   "file_extension": ".py",
   "mimetype": "text/x-python",
   "name": "python",
   "nbconvert_exporter": "python",
   "pygments_lexer": "ipython3",
   "version": "3.9.13"
  },
  "orig_nbformat": 4,
  "vscode": {
   "interpreter": {
    "hash": "042d5f1113490e40f07bc1675ab09022119bd72c6b27075996825ab2168fefab"
   }
  }
 },
 "nbformat": 4,
 "nbformat_minor": 2
}
